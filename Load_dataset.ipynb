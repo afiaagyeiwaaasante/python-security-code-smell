{
 "cells": [
  {
   "cell_type": "markdown",
   "id": "d2c3d0e2",
   "metadata": {},
   "source": [
    "Phase 1: Step 1 - Load Dataset"
   ]
  },
  {
   "cell_type": "code",
   "execution_count": 10,
   "id": "6e0ac6a0",
   "metadata": {},
   "outputs": [],
   "source": [
    "import pandas as pd\n",
    "import glob \n",
    "import os"
   ]
  },
  {
   "cell_type": "code",
   "execution_count": 11,
   "id": "75f40299",
   "metadata": {},
   "outputs": [
    {
     "name": "stdout",
     "output_type": "stream",
     "text": [
      "Found 10 files.\n",
      "Loading python_files/python_files_000000000000.csv ...\n",
      "Loading python_files/python_files_000000000001.csv ...\n",
      "Loading python_files/python_files_000000000002.csv ...\n",
      "Loading python_files/python_files_000000000003.csv ...\n",
      "Loading python_files/python_files_000000000004.csv ...\n",
      "Loading python_files/python_files_000000000005.csv ...\n",
      "Loading python_files/python_files_000000000006.csv ...\n",
      "Loading python_files/python_files_000000000007.csv ...\n",
      "Loading python_files/python_files_000000000008.csv ...\n",
      "Loading python_files/python_files_000000000009.csv ...\n"
     ]
    }
   ],
   "source": [
    "DATASET_DIR = \"python_files/\"\n",
    "\n",
    "# Use glob to find all CSVs that match the pattern\n",
    "csv_files = sorted(glob.glob(os.path.join(DATASET_DIR, \"python_files_*.csv\")))\n",
    "\n",
    "print(f\"Found {len(csv_files)} files.\")\n",
    "\n",
    "# Load and clean all files\n",
    "dfs = []\n",
    "for f in csv_files:\n",
    "    print(f\"Loading {f} ...\")\n",
    "    df_part = pd.read_csv(\n",
    "        f,\n",
    "        dtype=str,\n",
    "        keep_default_na=False\n",
    "    )\n",
    "    # Standardize schema\n",
    "    df_part.columns = df_part.columns.str.strip().str.lower()\n",
    "    df_part['repo_name'] = df_part['repo_name'].str.strip().str.lower()\n",
    "    df_part['path'] = df_part['path'].str.strip()\n",
    "    df_part['sha'] = df_part['sha'].str.strip().str.lower()\n",
    "    \n",
    "    dfs.append(df_part)\n",
    "\n",
    "# Merge all parts into one DataFrame\n",
    "df = pd.concat(dfs, ignore_index=True)\n"
   ]
  },
  {
   "cell_type": "code",
   "execution_count": 12,
   "id": "a15b4df2",
   "metadata": {},
   "outputs": [
    {
     "name": "stdout",
     "output_type": "stream",
     "text": [
      "Dataset shape: (27001763, 3)\n",
      "Columns: ['repo_name', 'path', 'sha']\n"
     ]
    },
    {
     "data": {
      "text/html": [
       "<div>\n",
       "<style scoped>\n",
       "    .dataframe tbody tr th:only-of-type {\n",
       "        vertical-align: middle;\n",
       "    }\n",
       "\n",
       "    .dataframe tbody tr th {\n",
       "        vertical-align: top;\n",
       "    }\n",
       "\n",
       "    .dataframe thead th {\n",
       "        text-align: right;\n",
       "    }\n",
       "</style>\n",
       "<table border=\"1\" class=\"dataframe\">\n",
       "  <thead>\n",
       "    <tr style=\"text-align: right;\">\n",
       "      <th></th>\n",
       "      <th>repo_name</th>\n",
       "      <th>path</th>\n",
       "      <th>sha</th>\n",
       "    </tr>\n",
       "  </thead>\n",
       "  <tbody>\n",
       "    <tr>\n",
       "      <th>0</th>\n",
       "      <td>polaris/boids</td>\n",
       "      <td>lib/googletest-82b11b8/googlemock/scripts/gene...</td>\n",
       "      <td>359d5562d78cf92abafdd2b9f1ef64ef05f547bd</td>\n",
       "    </tr>\n",
       "    <tr>\n",
       "      <th>1</th>\n",
       "      <td>polaris/boids</td>\n",
       "      <td>lib/googletest-82b11b8/googlemock/scripts/uplo...</td>\n",
       "      <td>6e6f9a14719ef8c9fdb603ad50bdd35dc7996e2d</td>\n",
       "    </tr>\n",
       "    <tr>\n",
       "      <th>2</th>\n",
       "      <td>polaris/boids</td>\n",
       "      <td>lib/googletest-82b11b8/googletest/test/gtest_t...</td>\n",
       "      <td>5678ffeaf6fa61ef7dcb45b8f34a0341191abf6e</td>\n",
       "    </tr>\n",
       "    <tr>\n",
       "      <th>3</th>\n",
       "      <td>polaris/boids</td>\n",
       "      <td>lib/googletest-82b11b8/googletest/test/gtest_o...</td>\n",
       "      <td>d5c637b4c1a5400bd7b4fdcf7ed786e7d40c3e6c</td>\n",
       "    </tr>\n",
       "    <tr>\n",
       "      <th>4</th>\n",
       "      <td>polaris/boids</td>\n",
       "      <td>lib/googletest-82b11b8/googletest/test/gtest_s...</td>\n",
       "      <td>30d0303d193554a5fd0b9b1f6a51ef7d09f30612</td>\n",
       "    </tr>\n",
       "  </tbody>\n",
       "</table>\n",
       "</div>"
      ],
      "text/plain": [
       "       repo_name                                               path  \\\n",
       "0  polaris/boids  lib/googletest-82b11b8/googlemock/scripts/gene...   \n",
       "1  polaris/boids  lib/googletest-82b11b8/googlemock/scripts/uplo...   \n",
       "2  polaris/boids  lib/googletest-82b11b8/googletest/test/gtest_t...   \n",
       "3  polaris/boids  lib/googletest-82b11b8/googletest/test/gtest_o...   \n",
       "4  polaris/boids  lib/googletest-82b11b8/googletest/test/gtest_s...   \n",
       "\n",
       "                                        sha  \n",
       "0  359d5562d78cf92abafdd2b9f1ef64ef05f547bd  \n",
       "1  6e6f9a14719ef8c9fdb603ad50bdd35dc7996e2d  \n",
       "2  5678ffeaf6fa61ef7dcb45b8f34a0341191abf6e  \n",
       "3  d5c637b4c1a5400bd7b4fdcf7ed786e7d40c3e6c  \n",
       "4  30d0303d193554a5fd0b9b1f6a51ef7d09f30612  "
      ]
     },
     "execution_count": 12,
     "metadata": {},
     "output_type": "execute_result"
    }
   ],
   "source": [
    "# Preview\n",
    "print(\"Dataset shape:\", df.shape)\n",
    "print(\"Columns:\", df.columns.tolist())\n",
    "df.head()"
   ]
  },
  {
   "cell_type": "markdown",
   "id": "53ad88de",
   "metadata": {},
   "source": [
    "Phase 1: Step 2 - Data Integrity Check with Logging "
   ]
  },
  {
   "cell_type": "code",
   "execution_count": 20,
   "id": "e2a11db5",
   "metadata": {},
   "outputs": [],
   "source": [
    "import re"
   ]
  },
  {
   "cell_type": "code",
   "execution_count": 18,
   "id": "71222c06",
   "metadata": {},
   "outputs": [],
   "source": [
    "#Keep a list of invalid paths\n",
    "removed_entries = []\n",
    "\n",
    "def log_invalid(df_subset, reason):\n",
    "    \"\"\"Helper to tag invalid rows with reason for removal\"\"\"\n",
    "    temp = df_subset.copy()\n",
    "    temp['invalid_reason'] = reason\n",
    "    return temp"
   ]
  },
  {
   "cell_type": "code",
   "execution_count": 21,
   "id": "083a03b4",
   "metadata": {},
   "outputs": [],
   "source": [
    "# --- 1. Remove exact duplicates ---\n",
    "initial_count = len(df)\n",
    "\n",
    "duplicates = df[df.duplicated(subset=[\"repo_name\", \"path\", \"sha\"], keep=\"first\")]\n",
    "if not duplicates.empty:\n",
    "    removed_entries.append(log_invalid(duplicates, \"duplicate_repo_path_sha\"))\n",
    "df = df.drop_duplicates(subset=[\"repo_name\", \"path\", \"sha\"], keep=\"first\")\n",
    "\n",
    "# Remove duplicate SHAs\n",
    "dup_shas = df[df.duplicated(subset=[\"sha\"], keep=\"first\")]\n",
    "if not dup_shas.empty:\n",
    "    removed_entries.append(log_invalid(dup_shas, \"duplicate_sha\"))\n",
    "df = df.drop_duplicates(subset=[\"sha\"], keep=\"first\")\n"
   ]
  },
  {
   "cell_type": "code",
   "execution_count": 22,
   "id": "e4fe52bc",
   "metadata": {},
   "outputs": [],
   "source": [
    "# --- 2. Validate SHA format ---\n",
    "def is_valid_sha(s):\n",
    "    return bool(re.fullmatch(r\"[0-9a-f]{40}\", str(s)))\n",
    "\n",
    "invalid_sha = df[~df['sha'].apply(is_valid_sha)]\n",
    "if not invalid_sha.empty:\n",
    "    removed_entries.append(log_invalid(invalid_sha, \"invalid_sha\"))\n",
    "df = df[df['sha'].apply(is_valid_sha)]\n"
   ]
  },
  {
   "cell_type": "code",
   "execution_count": 23,
   "id": "1b6cb53d",
   "metadata": {},
   "outputs": [],
   "source": [
    "# --- 3. Validate file extensions ---\n",
    "valid_py_mask = df['path'].str.lower().str.endswith(\".py\")\n",
    "invalid_ext = df[~valid_py_mask]\n",
    "if not invalid_ext.empty:\n",
    "    removed_entries.append(log_invalid(invalid_ext, \"invalid_extension\"))\n",
    "df = df[valid_py_mask].copy()"
   ]
  },
  {
   "cell_type": "code",
   "execution_count": 25,
   "id": "7e64ef81",
   "metadata": {},
   "outputs": [],
   "source": [
    "# --- Compile removal log ---\n",
    "if removed_entries:\n",
    "    removal_log = pd.concat(removed_entries, ignore_index=True)\n",
    "else:\n",
    "    removal_log = pd.DataFrame(columns=df.columns.tolist() + [\"removal_reason\"])\n"
   ]
  },
  {
   "cell_type": "code",
   "execution_count": 27,
   "id": "2b2cc52f",
   "metadata": {},
   "outputs": [
    {
     "name": "stdout",
     "output_type": "stream",
     "text": [
      "===== Cleaning Summary =====\n",
      "Initial entries: 7522004\n",
      "Final entries:   7522004\n",
      "Total removed:   0\n",
      "\n",
      "Removal breakdown by reason:\n",
      "Series([], Name: count, dtype: int64)\n"
     ]
    },
    {
     "data": {
      "text/html": [
       "<div>\n",
       "<style scoped>\n",
       "    .dataframe tbody tr th:only-of-type {\n",
       "        vertical-align: middle;\n",
       "    }\n",
       "\n",
       "    .dataframe tbody tr th {\n",
       "        vertical-align: top;\n",
       "    }\n",
       "\n",
       "    .dataframe thead th {\n",
       "        text-align: right;\n",
       "    }\n",
       "</style>\n",
       "<table border=\"1\" class=\"dataframe\">\n",
       "  <thead>\n",
       "    <tr style=\"text-align: right;\">\n",
       "      <th></th>\n",
       "      <th>repo_name</th>\n",
       "      <th>path</th>\n",
       "      <th>sha</th>\n",
       "    </tr>\n",
       "  </thead>\n",
       "  <tbody>\n",
       "    <tr>\n",
       "      <th>0</th>\n",
       "      <td>polaris/boids</td>\n",
       "      <td>lib/googletest-82b11b8/googlemock/scripts/gene...</td>\n",
       "      <td>359d5562d78cf92abafdd2b9f1ef64ef05f547bd</td>\n",
       "    </tr>\n",
       "    <tr>\n",
       "      <th>1</th>\n",
       "      <td>polaris/boids</td>\n",
       "      <td>lib/googletest-82b11b8/googlemock/scripts/uplo...</td>\n",
       "      <td>6e6f9a14719ef8c9fdb603ad50bdd35dc7996e2d</td>\n",
       "    </tr>\n",
       "    <tr>\n",
       "      <th>2</th>\n",
       "      <td>polaris/boids</td>\n",
       "      <td>lib/googletest-82b11b8/googletest/test/gtest_t...</td>\n",
       "      <td>5678ffeaf6fa61ef7dcb45b8f34a0341191abf6e</td>\n",
       "    </tr>\n",
       "    <tr>\n",
       "      <th>3</th>\n",
       "      <td>polaris/boids</td>\n",
       "      <td>lib/googletest-82b11b8/googletest/test/gtest_o...</td>\n",
       "      <td>d5c637b4c1a5400bd7b4fdcf7ed786e7d40c3e6c</td>\n",
       "    </tr>\n",
       "    <tr>\n",
       "      <th>4</th>\n",
       "      <td>polaris/boids</td>\n",
       "      <td>lib/googletest-82b11b8/googletest/test/gtest_s...</td>\n",
       "      <td>30d0303d193554a5fd0b9b1f6a51ef7d09f30612</td>\n",
       "    </tr>\n",
       "  </tbody>\n",
       "</table>\n",
       "</div>"
      ],
      "text/plain": [
       "       repo_name                                               path  \\\n",
       "0  polaris/boids  lib/googletest-82b11b8/googlemock/scripts/gene...   \n",
       "1  polaris/boids  lib/googletest-82b11b8/googlemock/scripts/uplo...   \n",
       "2  polaris/boids  lib/googletest-82b11b8/googletest/test/gtest_t...   \n",
       "3  polaris/boids  lib/googletest-82b11b8/googletest/test/gtest_o...   \n",
       "4  polaris/boids  lib/googletest-82b11b8/googletest/test/gtest_s...   \n",
       "\n",
       "                                        sha  \n",
       "0  359d5562d78cf92abafdd2b9f1ef64ef05f547bd  \n",
       "1  6e6f9a14719ef8c9fdb603ad50bdd35dc7996e2d  \n",
       "2  5678ffeaf6fa61ef7dcb45b8f34a0341191abf6e  \n",
       "3  d5c637b4c1a5400bd7b4fdcf7ed786e7d40c3e6c  \n",
       "4  30d0303d193554a5fd0b9b1f6a51ef7d09f30612  "
      ]
     },
     "execution_count": 27,
     "metadata": {},
     "output_type": "execute_result"
    }
   ],
   "source": [
    "print(\"===== Cleaning Summary =====\")\n",
    "print(f\"Initial entries: {initial_count}\")\n",
    "print(f\"Final entries:   {len(df)}\")\n",
    "print(f\"Total removed:   {len(removal_log)}\\n\")\n",
    "\n",
    "print(\"Removal breakdown by reason:\")\n",
    "print(removal_log['removal_reason'].value_counts())\n",
    "\n",
    "# Save for traceability\n",
    "removal_log.to_csv(\"invalid_entries_log.csv\", index=False)\n",
    "\n",
    "df.head()"
   ]
  },
  {
   "cell_type": "markdown",
   "id": "808d5099",
   "metadata": {},
   "source": [
    "se 1: Step 3 - General Dataset Info"
   ]
  },
  {
   "cell_type": "code",
   "execution_count": 30,
   "id": "34d759f0",
   "metadata": {},
   "outputs": [],
   "source": [
    "import matplotlib.pyplot as plt\n",
    "import seaborn as sns\n",
    "import numpy as np\n",
    "import os"
   ]
  },
  {
   "cell_type": "code",
   "execution_count": 31,
   "id": "2214fdee",
   "metadata": {},
   "outputs": [
    {
     "name": "stdout",
     "output_type": "stream",
     "text": [
      "===== Dataset Summary =====\n",
      "Total entries: 7522004\n",
      "Unique repos: 468348\n",
      "Unique files: 5104007\n",
      "Unique SHAs:  7522004\n",
      "\n",
      "Files per repo (summary stats):\n",
      "count    468348.000000\n",
      "mean         16.060301\n",
      "std          77.261473\n",
      "min           1.000000\n",
      "25%           2.000000\n",
      "50%           4.000000\n",
      "75%          12.000000\n",
      "max       24189.000000\n",
      "Name: path, dtype: float64\n"
     ]
    },
    {
     "data": {
      "image/png": "[encoded data removed]",
      "text/plain": [
       "<Figure size 800x500 with 1 Axes>"
      ]
     },
     "metadata": {},
     "output_type": "display_data"
    }
   ],
   "source": [
    "print(\"===== Dataset Summary =====\")\n",
    "print(f\"Total entries: {len(df)}\")\n",
    "print(f\"Unique repos: {df['repo_name'].nunique()}\")\n",
    "print(f\"Unique files: {df['path'].nunique()}\")\n",
    "print(f\"Unique SHAs:  {df['sha'].nunique()}\")\n",
    "\n",
    "# --- Distribution of files per repo ---\n",
    "files_per_repo = df.groupby(\"repo_name\")[\"path\"].nunique()\n",
    "print(\"\\nFiles per repo (summary stats):\")\n",
    "print(files_per_repo.describe())\n",
    "\n",
    "plt.figure(figsize=(8,5))\n",
    "sns.histplot(files_per_repo, bins=50, log_scale=(False, True))\n",
    "plt.xlabel(\"Number of .py files per repo\")\n",
    "plt.ylabel(\"Repo count (log scale)\")\n",
    "plt.title(\"Distribution of files per repo\")\n",
    "plt.show()"
   ]
  }
 ],
 "metadata": {
  "kernelspec": {
   "display_name": "Python 3",
   "language": "python",
   "name": "python3"
  },
  "language_info": {
   "codemirror_mode": {
    "name": "ipython",
    "version": 3
   },
   "file_extension": ".py",
   "mimetype": "text/x-python",
   "name": "python",
   "nbconvert_exporter": "python",
   "pygments_lexer": "ipython3",
   "version": "3.9.6"
  }
 },
 "nbformat": 4,
 "nbformat_minor": 5
}
